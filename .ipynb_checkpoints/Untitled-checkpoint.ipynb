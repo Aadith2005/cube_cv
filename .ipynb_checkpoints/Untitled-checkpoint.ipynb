{
 "cells": [
  {
   "cell_type": "code",
   "execution_count": 4,
   "id": "13493b4d-539a-4018-a473-6ed16609c9d6",
   "metadata": {},
   "outputs": [],
   "source": [
    "from vpython import *\n",
    "\n",
    "scene.title = \"Rubik's Cube - VPython\"\n",
    "scene.background = color.black\n",
    "\n",
    "# Offset to center the cube\n",
    "offset = vector(-1, -1, -1)\n",
    "\n",
    "# Draw all 27 cubelets in a 3x3x3 grid\n",
    "for x in range(3):\n",
    "    for y in range(3):\n",
    "        for z in range(3):\n",
    "            box(pos=vector(x, y, z) + offset, size=vector(0.95, 0.95, 0.95), color=color.white)\n"
   ]
  },
  {
   "cell_type": "code",
   "execution_count": null,
   "id": "1c42f8e2-12db-46b5-a762-1f7daed51534",
   "metadata": {},
   "outputs": [],
   "source": []
  },
  {
   "cell_type": "code",
   "execution_count": null,
   "id": "52c2c6d5-0dd1-475e-8bfd-8bc9a2d61f4a",
   "metadata": {},
   "outputs": [],
   "source": []
  }
 ],
 "metadata": {
  "kernelspec": {
   "display_name": "Python 3 (ipykernel)",
   "language": "python",
   "name": "python3"
  },
  "language_info": {
   "codemirror_mode": {
    "name": "ipython",
    "version": 3
   },
   "file_extension": ".py",
   "mimetype": "text/x-python",
   "name": "python",
   "nbconvert_exporter": "python",
   "pygments_lexer": "ipython3",
   "version": "3.11.7"
  }
 },
 "nbformat": 4,
 "nbformat_minor": 5
}
